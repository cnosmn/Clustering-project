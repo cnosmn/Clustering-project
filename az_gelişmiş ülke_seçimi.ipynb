{
 "cells": [
  {
   "cell_type": "code",
   "execution_count": 79,
   "id": "28811e03",
   "metadata": {},
   "outputs": [
    {
     "name": "stdout",
     "output_type": "stream",
     "text": [
      "Index(['Ulke', 'Cocuk_olumu', 'Ihracat', 'Saglik', 'İthalat', 'Gelir',\n",
      "       'Enflasyon', 'Beklenen_yasam', 'Dogum_sayisi', 'GSYIH'],\n",
      "      dtype='object')\n"
     ]
    }
   ],
   "source": [
    "# 1. Aşama\n",
    "\n",
    "import pandas as pd \n",
    "# pandas modülü pd kısaltması ile yüklenmiştir\n",
    "\n",
    "data = pd.read_csv(\"Ulke_veriseti.csv\")\n",
    "#veri seti yüklenip data değişkenine atanmıştır\n",
    "\n",
    "print(data.columns)\n",
    "# veri setindeki sütun isimleri yazdırılır"
   ]
  },
  {
   "cell_type": "code",
   "execution_count": 80,
   "id": "e5c73f49",
   "metadata": {},
   "outputs": [
    {
     "name": "stdout",
     "output_type": "stream",
     "text": [
      "True\n",
      "Ulke              0\n",
      "Cocuk_olumu       1\n",
      "Ihracat           1\n",
      "Saglik            0\n",
      "İthalat           1\n",
      "Gelir             0\n",
      "Enflasyon         1\n",
      "Beklenen_yasam    0\n",
      "Dogum_sayisi      0\n",
      "GSYIH             0\n",
      "dtype: int64\n"
     ]
    }
   ],
   "source": [
    "# 2. Aşama\n",
    "\n",
    "print(data.isnull().values.any())\n",
    "# veri setindeki eksik veri var mı sorgulandı\n",
    "print(data.isnull().sum())\n",
    "#her sütun için eksik veriler varsa sayıları yazdırıldı"
   ]
  },
  {
   "cell_type": "code",
   "execution_count": 81,
   "id": "dbbf42ad",
   "metadata": {},
   "outputs": [
    {
     "name": "stdout",
     "output_type": "stream",
     "text": [
      "Ulke              0\n",
      "Cocuk_olumu       1\n",
      "Ihracat           1\n",
      "Saglik            0\n",
      "İthalat           1\n",
      "Gelir             0\n",
      "Enflasyon         1\n",
      "Beklenen_yasam    0\n",
      "Dogum_sayisi      0\n",
      "GSYIH             0\n",
      "dtype: int64\n"
     ]
    }
   ],
   "source": [
    "# 3. Aşama\n",
    "\n",
    "eksik_degerler = data.isnull().sum() \n",
    "# eksik veriler sorgulandı.\n",
    "\n",
    "print(eksik_degerler) \n",
    "# eksik veriler ekrana yazdırıldı.\n",
    "\n",
    "data = data.dropna() \n",
    "# eksik veriler silinip yeni data veri seti oluşturuldu."
   ]
  },
  {
   "cell_type": "code",
   "execution_count": 82,
   "id": "aab0ebb4",
   "metadata": {},
   "outputs": [
    {
     "name": "stdout",
     "output_type": "stream",
     "text": [
      "True\n",
      "2\n"
     ]
    }
   ],
   "source": [
    "# 4. Aşama\n",
    "\n",
    "print(data[\"Ulke\"].duplicated().values.any()) \n",
    "# Tekrar eden ülke var mı sorgulanmıştır.\n",
    "\n",
    "print(data[\"Ulke\"].duplicated().sum())\n",
    "#Tekrar eden ülke sayısı yazdırılmıştır."
   ]
  },
  {
   "cell_type": "code",
   "execution_count": 83,
   "id": "875c7d3f",
   "metadata": {},
   "outputs": [
    {
     "name": "stdout",
     "output_type": "stream",
     "text": [
      "      Ulke  Cocuk_olumu  Ihracat  Saglik  İthalat  Gelir  Enflasyon  \\\n",
      "18   Butan         42.7     42.5     5.2     70.7   6420       5.99   \n",
      "19   Butan         42.7     42.5     5.2     70.7   6420       5.99   \n",
      "30  Kanada          5.6     29.1    11.3     31.0  40700       2.87   \n",
      "32  Kanada          5.6     29.1    11.3     31.0  40700       2.87   \n",
      "\n",
      "    Beklenen_yasam  Dogum_sayisi  GSYIH  \n",
      "18            72.1          2.38   2180  \n",
      "19            72.1          2.38   2180  \n",
      "30            81.3          1.63  47400  \n",
      "32            81.3          1.63  47400  \n",
      "False\n"
     ]
    }
   ],
   "source": [
    "# 5. Aşama\n",
    "\n",
    "print(data[data.duplicated(keep=False).values])\n",
    "#Tekrar eden ülke satırlarının  hepsi 'keep= false' parametresiyle ekrana yazdırılır\n",
    "\n",
    "data=data.drop_duplicates(keep='first')\n",
    "# ilk ülke satırı hariç geri kalan tekrar eden ülke satırları veri setinden silinir\n",
    "\n",
    "print(data[\"Ulke\"].duplicated().values.any()) \n",
    "# Tekrar eden ülke var mı sorgulanır ve False yanıtı alınır."
   ]
  },
  {
   "cell_type": "code",
   "execution_count": 104,
   "id": "bfc4e711",
   "metadata": {},
   "outputs": [
    {
     "data": {
      "text/plain": [
       "array([[ 1.29153238, -1.13827979,  0.27908825, ..., -1.61909203,\n",
       "         1.90288227, -0.67917961],\n",
       "       [-0.5389489 , -0.47965843, -0.09701618, ...,  0.64786643,\n",
       "        -0.85997281, -0.48562324],\n",
       "       [-0.27283273, -0.09912164, -0.96607302, ...,  0.67042323,\n",
       "        -0.0384044 , -0.46537561],\n",
       "       ...,\n",
       "       [-0.37231541,  1.13030491,  0.0088773 , ...,  0.28695762,\n",
       "        -0.66120626, -0.63775406],\n",
       "       [ 0.44841668, -0.40647827, -0.59727159, ..., -0.34463279,\n",
       "         1.14094382, -0.63775406],\n",
       "       [ 1.11495062, -0.15034774, -0.33801514, ..., -2.09278484,\n",
       "         1.6246091 , -0.62954556]])"
      ]
     },
     "execution_count": 104,
     "metadata": {},
     "output_type": "execute_result"
    }
   ],
   "source": [
    "# 6. Aşama\n",
    "\n",
    "from sklearn import preprocessing\n",
    "#sklearn kütüphanesinden preprocessing.StandardScaler() (Z-skor normalizasyonu) ile ülke verilerini standartlaştırılır\n",
    "\n",
    "import numpy as np\n",
    "#numpy kütüphanesi np kısaltması ile import edilir\n",
    "\n",
    "scaler = preprocessing.StandardScaler().fit_transform(data.iloc[:,1:])\n",
    "#scaler adında nesne ile veriler standartlaştırılır ülke isimleri string veri olduğu için standartlaştırılmaya alınmamıştır\n",
    "scaler"
   ]
  },
  {
   "cell_type": "code",
   "execution_count": 115,
   "id": "9ad32d95",
   "metadata": {},
   "outputs": [
    {
     "name": "stdout",
     "output_type": "stream",
     "text": [
      "[0 0 0 0 0 0 0 1 1 0 1 1 0 0 0 1 0 0 0 0 0 0 0 2 0 0 0 0 0 1 0 0 0 0 0 0 0\n",
      " 0 0 0 0 0 1 1 1 0 0 0 0 1 0 0 0 1 1 0 0 0 1 0 1 0 0 0 0 0 0 0 1 0 0 0 0 1\n",
      " 1 1 0 1 0 0 0 0 2 0 0 0 0 0 0 0 0 2 0 0 0 0 0 0 1 0 0 0 0 0 0 0 0 0 0 0 1\n",
      " 1 0 0 2 1 0 0 0 0 0 0 1 2 0 0 0 0 1 0 0 0 0 2 0 1 0 0 1 1 0 0 0 0 1 2 0 0\n",
      " 0 0 0 0 0 0 0 0 0 1 1 1 0 0 0 0 0 0 0]\n",
      "                 Ulke  Cocuk_olumu  Ihracat  Saglik  İthalat  Gelir  \\\n",
      "0          Afganistan         90.2     10.0    7.58     44.9   1610   \n",
      "1          Arnavutluk         16.6     28.0    6.55     48.6   9930   \n",
      "2             Cezayir         27.3     38.4    4.17     31.4  12900   \n",
      "3              Angola        119.0     62.3    2.85     42.9   5900   \n",
      "4  Antigua ve Barbuda         10.3     45.5    6.03     58.9  19100   \n",
      "5            Arjantin         14.5     18.9    8.10     16.0  18700   \n",
      "6          Ermenistan         18.1     20.8    4.40     45.3   6700   \n",
      "7          Avustralya          4.8     19.8    8.73     20.9  41400   \n",
      "8           Avusturya          4.3     51.3   11.00     47.8  43200   \n",
      "9          Azerbaycan         39.2     54.3    5.88     20.7  16000   \n",
      "\n",
      "   Enflasyon  Beklenen_yasam  Dogum_sayisi  GSYIH  kumesi  \n",
      "0      9.440            56.2          5.82    553       0  \n",
      "1      4.490            76.3          1.65   4090       0  \n",
      "2     16.100            76.5          2.89   4460       0  \n",
      "3     22.400            60.1          6.16   3530       0  \n",
      "4      1.440            76.8          2.13  12200       0  \n",
      "5     20.900            75.8          2.37  10300       0  \n",
      "6      7.770            73.3          1.69   3220       0  \n",
      "7      1.160            82.0          1.93  51900       1  \n",
      "8      0.873            80.5          1.44  46900       1  \n",
      "9     13.800            69.1          1.92   5840       0  \n"
     ]
    }
   ],
   "source": [
    "# 7. Aşama\n",
    "\n",
    "from sklearn.cluster import KMeans\n",
    "#sklearn.cluster modülü ile k means modülü yüklenmiştir\n",
    "\n",
    "kmeans = KMeans(3)\n",
    "#kmeans nesnesi oluşturulup istenilen sınıf değeri olarak 3 verilmiştir\n",
    "\n",
    "x=data.iloc[:,1:]\n",
    "kmeans.fit(x)\n",
    "#ülke isimleri string olduğu için es geçilip kmeans algoritmasında 3 sınıfa ayrılmak üzere veri öğretilmiştir.\n",
    "\n",
    "identified_clusters = kmeans.fit_predict(x)\n",
    "print(identified_clusters)\n",
    "#identified_clusters tablosu oluşturlup verilerin satır olarak sınıfları belirtilmiştir\n",
    "\n",
    "data[\"kumesi\"]=identified_clusters\n",
    "#küme etiketleri orjinal veri setine (data) “Kumesi” başlıklı sütun olarak eklenir\n",
    "\n",
    "print(data.head(10))\n",
    "#verilerin ilk 10 satırı ekrana yazdırılır"
   ]
  },
  {
   "cell_type": "code",
   "execution_count": 145,
   "id": "dcc4d7b0",
   "metadata": {},
   "outputs": [
    {
     "name": "stdout",
     "output_type": "stream",
     "text": [
      "                   Ulke  Cocuk_olumu  Ihracat  Saglik  İthalat  Gelir  \\\n",
      "0            Afganistan         90.2     10.0    7.58     44.9   1610   \n",
      "3                Angola        119.0     62.3    2.85     42.9   5900   \n",
      "4    Antigua ve Barbuda         10.3     45.5    6.03     58.9  19100   \n",
      "5              Arjantin         14.5     18.9    8.10     16.0  18700   \n",
      "1            Arnavutluk         16.6     28.0    6.55     48.6   9930   \n",
      "..                  ...          ...      ...     ...      ...    ...   \n",
      "37                  Çin         15.7     26.3    5.07     22.6   9530   \n",
      "165          Özbekistan         36.3     31.7    5.81     28.5   4240   \n",
      "82                Ürdün         21.1     48.3    8.04     69.0   9470   \n",
      "75                 İran         19.3     24.4    5.60     19.4  17400   \n",
      "36                 Şili          8.7     37.7    7.96     31.3  19400   \n",
      "\n",
      "     Enflasyon  Beklenen_yasam  Dogum_sayisi  GSYIH  kumesi  \n",
      "0         9.44            56.2          5.82    553       0  \n",
      "3        22.40            60.1          6.16   3530       0  \n",
      "4         1.44            76.8          2.13  12200       0  \n",
      "5        20.90            75.8          2.37  10300       0  \n",
      "1         4.49            76.3          1.65   4090       0  \n",
      "..         ...             ...           ...    ...     ...  \n",
      "37        6.94            74.6          1.59   4560       0  \n",
      "165      16.50            68.8          2.34   1380       0  \n",
      "82        8.43            75.8          3.66   3680       0  \n",
      "75       15.90            74.5          1.76   6530       0  \n",
      "36        8.96            79.1          1.88  12900       0  \n",
      "\n",
      "[128 rows x 11 columns]\n",
      "167\n"
     ]
    }
   ],
   "source": [
    "# 8. Aşama\n",
    "\n",
    "#az gelişmiş ülkeler = 0 , gelişmekte olan ülkeler = 1 , gelişmiş ülkeler = 2\n",
    "\n",
    "(print(data.groupby(\"Ulke\")\n",
    "     .filter(lambda x : x[\"kumesi\"] == 0)\n",
    "     .sort_values('Ulke')))\n",
    "# Ülkeler gruplandırılıp kümesi yani az gelişmiş ülkeler lambda isimsiz fonksiyonu ile seçilip ülkeler alfabetik sıralanmıştır.\n",
    "\n",
    "total_rows = len(data.index)\n",
    "print(total_rows)\n",
    "#toplam az gelişmiş ülke sayısı ekrana yazdırılır."
   ]
  }
 ],
 "metadata": {
  "kernelspec": {
   "display_name": "Python 3 (ipykernel)",
   "language": "python",
   "name": "python3"
  },
  "language_info": {
   "codemirror_mode": {
    "name": "ipython",
    "version": 3
   },
   "file_extension": ".py",
   "mimetype": "text/x-python",
   "name": "python",
   "nbconvert_exporter": "python",
   "pygments_lexer": "ipython3",
   "version": "3.9.12"
  }
 },
 "nbformat": 4,
 "nbformat_minor": 5
}
